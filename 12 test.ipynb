def myfun(a,b):
    return a + b

myfun(2,3)
